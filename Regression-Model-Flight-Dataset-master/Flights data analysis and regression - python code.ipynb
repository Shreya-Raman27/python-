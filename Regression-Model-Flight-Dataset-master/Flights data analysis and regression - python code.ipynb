{
 "cells": [
  {
   "cell_type": "markdown",
   "metadata": {},
   "source": [
    "# 2015 Flights delays and cancellations"
   ]
  },
  {
   "cell_type": "markdown",
   "metadata": {},
   "source": [
    "### 1. Introduction"
   ]
  },
  {
   "cell_type": "markdown",
   "metadata": {},
   "source": [
    "The aim of this notebook is to perform exploratory data analysis on the flights delay data to get insights on the features and to build models using Linear regression to analyze arrival delay of flights using several features."
   ]
  },
  {
   "cell_type": "code",
   "execution_count": 1,
   "metadata": {},
   "outputs": [
    {
     "name": "stdout",
     "output_type": "stream",
     "text": [
      "Requirement already satisfied: pandas in c:\\users\\dell pc\\appdata\\local\\programs\\python\\python311\\lib\\site-packages (2.2.2)Note: you may need to restart the kernel to use updated packages.\n"
     ]
    },
    {
     "name": "stderr",
     "output_type": "stream",
     "text": [
      "\n",
      "[notice] A new release of pip is available: 23.1.2 -> 24.1\n",
      "[notice] To update, run: python.exe -m pip install --upgrade pip\n"
     ]
    },
    {
     "name": "stdout",
     "output_type": "stream",
     "text": [
      "\n",
      "Requirement already satisfied: numpy>=1.23.2 in c:\\users\\dell pc\\appdata\\local\\programs\\python\\python311\\lib\\site-packages (from pandas) (2.0.0)\n",
      "Requirement already satisfied: python-dateutil>=2.8.2 in c:\\users\\dell pc\\appdata\\roaming\\python\\python311\\site-packages (from pandas) (2.9.0.post0)\n",
      "Requirement already satisfied: pytz>=2020.1 in c:\\users\\dell pc\\appdata\\local\\programs\\python\\python311\\lib\\site-packages (from pandas) (2024.1)\n",
      "Requirement already satisfied: tzdata>=2022.7 in c:\\users\\dell pc\\appdata\\local\\programs\\python\\python311\\lib\\site-packages (from pandas) (2024.1)\n",
      "Requirement already satisfied: six>=1.5 in c:\\users\\dell pc\\appdata\\roaming\\python\\python311\\site-packages (from python-dateutil>=2.8.2->pandas) (1.16.0)\n",
      "Requirement already satisfied: numpy in c:\\users\\dell pc\\appdata\\local\\programs\\python\\python311\\lib\\site-packages (2.0.0)\n",
      "Note: you may need to restart the kernel to use updated packages.\n"
     ]
    },
    {
     "name": "stderr",
     "output_type": "stream",
     "text": [
      "\n",
      "[notice] A new release of pip is available: 23.1.2 -> 24.1\n",
      "[notice] To update, run: python.exe -m pip install --upgrade pip\n"
     ]
    },
    {
     "name": "stdout",
     "output_type": "stream",
     "text": [
      "Requirement already satisfied: matplotlib in c:\\users\\dell pc\\appdata\\local\\programs\\python\\python311\\lib\\site-packages (3.9.0)\n",
      "Requirement already satisfied: contourpy>=1.0.1 in c:\\users\\dell pc\\appdata\\local\\programs\\python\\python311\\lib\\site-packages (from matplotlib) (1.2.1)\n",
      "Requirement already satisfied: cycler>=0.10 in c:\\users\\dell pc\\appdata\\local\\programs\\python\\python311\\lib\\site-packages (from matplotlib) (0.12.1)\n",
      "Requirement already satisfied: fonttools>=4.22.0 in c:\\users\\dell pc\\appdata\\local\\programs\\python\\python311\\lib\\site-packages (from matplotlib) (4.53.0)\n",
      "Requirement already satisfied: kiwisolver>=1.3.1 in c:\\users\\dell pc\\appdata\\local\\programs\\python\\python311\\lib\\site-packages (from matplotlib) (1.4.5)\n",
      "Requirement already satisfied: numpy>=1.23 in c:\\users\\dell pc\\appdata\\local\\programs\\python\\python311\\lib\\site-packages (from matplotlib) (2.0.0)\n",
      "Requirement already satisfied: packaging>=20.0 in c:\\users\\dell pc\\appdata\\roaming\\python\\python311\\site-packages (from matplotlib) (24.1)\n",
      "Requirement already satisfied: pillow>=8 in c:\\users\\dell pc\\appdata\\local\\programs\\python\\python311\\lib\\site-packages (from matplotlib) (10.3.0)\n",
      "Requirement already satisfied: pyparsing>=2.3.1 in c:\\users\\dell pc\\appdata\\local\\programs\\python\\python311\\lib\\site-packages (from matplotlib) (3.1.2)\n",
      "Requirement already satisfied: python-dateutil>=2.7 in c:\\users\\dell pc\\appdata\\roaming\\python\\python311\\site-packages (from matplotlib) (2.9.0.post0)\n",
      "Requirement already satisfied: six>=1.5 in c:\\users\\dell pc\\appdata\\roaming\\python\\python311\\site-packages (from python-dateutil>=2.7->matplotlib) (1.16.0)\n",
      "Note: you may need to restart the kernel to use updated packages.\n"
     ]
    },
    {
     "name": "stderr",
     "output_type": "stream",
     "text": [
      "\n",
      "[notice] A new release of pip is available: 23.1.2 -> 24.1\n",
      "[notice] To update, run: python.exe -m pip install --upgrade pip\n"
     ]
    },
    {
     "name": "stdout",
     "output_type": "stream",
     "text": [
      "Requirement already satisfied: seaborn in c:\\users\\dell pc\\appdata\\local\\programs\\python\\python311\\lib\\site-packages (0.13.2)\n",
      "Requirement already satisfied: numpy!=1.24.0,>=1.20 in c:\\users\\dell pc\\appdata\\local\\programs\\python\\python311\\lib\\site-packages (from seaborn) (2.0.0)\n",
      "Requirement already satisfied: pandas>=1.2 in c:\\users\\dell pc\\appdata\\local\\programs\\python\\python311\\lib\\site-packages (from seaborn) (2.2.2)\n",
      "Requirement already satisfied: matplotlib!=3.6.1,>=3.4 in c:\\users\\dell pc\\appdata\\local\\programs\\python\\python311\\lib\\site-packages (from seaborn) (3.9.0)\n",
      "Requirement already satisfied: contourpy>=1.0.1 in c:\\users\\dell pc\\appdata\\local\\programs\\python\\python311\\lib\\site-packages (from matplotlib!=3.6.1,>=3.4->seaborn) (1.2.1)\n",
      "Requirement already satisfied: cycler>=0.10 in c:\\users\\dell pc\\appdata\\local\\programs\\python\\python311\\lib\\site-packages (from matplotlib!=3.6.1,>=3.4->seaborn) (0.12.1)\n",
      "Requirement already satisfied: fonttools>=4.22.0 in c:\\users\\dell pc\\appdata\\local\\programs\\python\\python311\\lib\\site-packages (from matplotlib!=3.6.1,>=3.4->seaborn) (4.53.0)\n",
      "Requirement already satisfied: kiwisolver>=1.3.1 in c:\\users\\dell pc\\appdata\\local\\programs\\python\\python311\\lib\\site-packages (from matplotlib!=3.6.1,>=3.4->seaborn) (1.4.5)\n",
      "Requirement already satisfied: packaging>=20.0 in c:\\users\\dell pc\\appdata\\roaming\\python\\python311\\site-packages (from matplotlib!=3.6.1,>=3.4->seaborn) (24.1)\n",
      "Requirement already satisfied: pillow>=8 in c:\\users\\dell pc\\appdata\\local\\programs\\python\\python311\\lib\\site-packages (from matplotlib!=3.6.1,>=3.4->seaborn) (10.3.0)\n",
      "Requirement already satisfied: pyparsing>=2.3.1 in c:\\users\\dell pc\\appdata\\local\\programs\\python\\python311\\lib\\site-packages (from matplotlib!=3.6.1,>=3.4->seaborn) (3.1.2)\n",
      "Requirement already satisfied: python-dateutil>=2.7 in c:\\users\\dell pc\\appdata\\roaming\\python\\python311\\site-packages (from matplotlib!=3.6.1,>=3.4->seaborn) (2.9.0.post0)\n",
      "Requirement already satisfied: pytz>=2020.1 in c:\\users\\dell pc\\appdata\\local\\programs\\python\\python311\\lib\\site-packages (from pandas>=1.2->seaborn) (2024.1)\n",
      "Requirement already satisfied: tzdata>=2022.7 in c:\\users\\dell pc\\appdata\\local\\programs\\python\\python311\\lib\\site-packages (from pandas>=1.2->seaborn) (2024.1)\n",
      "Requirement already satisfied: six>=1.5 in c:\\users\\dell pc\\appdata\\roaming\\python\\python311\\site-packages (from python-dateutil>=2.7->matplotlib!=3.6.1,>=3.4->seaborn) (1.16.0)\n",
      "Note: you may need to restart the kernel to use updated packages.\n"
     ]
    },
    {
     "name": "stderr",
     "output_type": "stream",
     "text": [
      "\n",
      "[notice] A new release of pip is available: 23.1.2 -> 24.1\n",
      "[notice] To update, run: python.exe -m pip install --upgrade pip\n",
      "\n",
      "[notice] A new release of pip is available: 23.1.2 -> 24.1\n",
      "[notice] To update, run: python.exe -m pip install --upgrade pip\n"
     ]
    },
    {
     "name": "stdout",
     "output_type": "stream",
     "text": [
      "Requirement already satisfied: statsmodels in c:\\users\\dell pc\\appdata\\local\\programs\\python\\python311\\lib\\site-packages (0.14.2)Note: you may need to restart the kernel to use updated packages.\n",
      "\n",
      "Requirement already satisfied: numpy>=1.22.3 in c:\\users\\dell pc\\appdata\\local\\programs\\python\\python311\\lib\\site-packages (from statsmodels) (2.0.0)\n",
      "Requirement already satisfied: scipy!=1.9.2,>=1.8 in c:\\users\\dell pc\\appdata\\local\\programs\\python\\python311\\lib\\site-packages (from statsmodels) (1.13.1)\n",
      "Requirement already satisfied: pandas!=2.1.0,>=1.4 in c:\\users\\dell pc\\appdata\\local\\programs\\python\\python311\\lib\\site-packages (from statsmodels) (2.2.2)\n",
      "Requirement already satisfied: patsy>=0.5.6 in c:\\users\\dell pc\\appdata\\local\\programs\\python\\python311\\lib\\site-packages (from statsmodels) (0.5.6)\n",
      "Requirement already satisfied: packaging>=21.3 in c:\\users\\dell pc\\appdata\\roaming\\python\\python311\\site-packages (from statsmodels) (24.1)\n",
      "Requirement already satisfied: python-dateutil>=2.8.2 in c:\\users\\dell pc\\appdata\\roaming\\python\\python311\\site-packages (from pandas!=2.1.0,>=1.4->statsmodels) (2.9.0.post0)\n",
      "Requirement already satisfied: pytz>=2020.1 in c:\\users\\dell pc\\appdata\\local\\programs\\python\\python311\\lib\\site-packages (from pandas!=2.1.0,>=1.4->statsmodels) (2024.1)\n",
      "Requirement already satisfied: tzdata>=2022.7 in c:\\users\\dell pc\\appdata\\local\\programs\\python\\python311\\lib\\site-packages (from pandas!=2.1.0,>=1.4->statsmodels) (2024.1)\n",
      "Requirement already satisfied: six in c:\\users\\dell pc\\appdata\\roaming\\python\\python311\\site-packages (from patsy>=0.5.6->statsmodels) (1.16.0)\n"
     ]
    }
   ],
   "source": [
    "#install \n",
    "%pip install pandas\n",
    "#install \n",
    "%pip install numpy\n",
    "%pip install matplotlib\n",
    "%pip install seaborn\n",
    "%pip install statsmodels\n",
    "\n",
    "\n",
    "\n",
    "#importing all the relevant libraries here\n",
    "import pandas as pd\n",
    "import numpy as np\n",
    "import matplotlib.pyplot as plt\n",
    "import seaborn as sns\n",
    "import statsmodels.api as sm\n",
    "%matplotlib inline\n",
    "#Reading the csv file\n",
    "flight=pd.read_csv(\"flights.csv\")"
   ]
  },
  {
   "cell_type": "markdown",
   "metadata": {},
   "source": [
    "### 2. Description of the dataset"
   ]
  },
  {
   "cell_type": "markdown",
   "metadata": {},
   "source": [
    "YEAR :Year of the Flight Trip<br/>\n",
    "MONTH : Month of the Flight Trip<br/>\n",
    "DAY : Day of the Flight Trip<br/>\n",
    "DAY_OF_WEEK : Day of week of the Flight Trip<br/>\n",
    "AIRLINE : Airline Identifier<br/>\n",
    "FLIGHT_NUMBER : Flight Identifier<br/>\n",
    "TAIL_NUMBER : Aircraft Identifier<br/>\n",
    "ORIGIN_AIRPORT : Starting Airport<br/>\n",
    "DESTINATION_AIRPORT : Destination Airport<br/>\n",
    "SCHEDULED_DEPARTURE : Planned Departure Time<br/>\n",
    "DEPARTURE_TIME : WHEEL_OFF - TAXI_OUT<br/>\n",
    "DEPARTURE_DELAY : Total Delay on Departure<br/>\n",
    "TAXI_OUT : The time duration elapsed between departure from the origin airport gate and wheels off<br/>\n",
    "WHEELS_OFF : The time point that the aircraft's wheels leave the ground<br/>\n",
    "SCHEDULED_TIME : Planned time amount needed for the flight trip<br/>\n",
    "ELAPSED_TIME : AIR_TIME+TAXI_IN+TAXI_OUT<br/>\n",
    "AIR_TIME : The time duration between wheels_off and wheels_on time<br/>\n",
    "DISTANCE : Distance between two airports<br/>\n",
    "WHEELS_ON : The time point that the aircraft's wheels touch on the ground<br/>\n",
    "TAXI_IN : The time duration elapsed between wheels-on and gate arrival at the destination airport<br/>\n",
    "SCHEDULED_ARRIVAL : Planned arrival time<br/>\n",
    "ARRIVAL_TIME : WHEELS_ON+TAXI_IN<br/>\n",
    "ARRIVAL_DELAY : ARRIVAL_TIME-SCHEDULED_ARRIVAL<br/>\n",
    "DIVERTED: Aircraft landed on airport that out of schedule<br/>\n",
    "CANCELLED : Flight Cancelled (1 = cancelled)<br/>\n",
    "CANCELLATION_REASON: Reason for Cancellation of flight: A - Airline/Carrier; B - Weather; C - National Air System; D - Security<br/>\n",
    "AIR_SYSTEM_DELAY : Delay caused by air system<br/>\n",
    "SECURITY_DELAY : Delay caused by security<br/>\n",
    "AIRLINE_DELAY : Delay caused by the airline<br/>\n",
    "LATE_AIRCRAFT_DELAY : Delay caused by aircraft<br/>\n",
    "WEATHER_DELAY : Delay caused by weather<br/>"
   ]
  },
  {
   "cell_type": "code",
   "execution_count": 2,
   "metadata": {},
   "outputs": [
    {
     "data": {
      "text/html": [
       "<div>\n",
       "<style scoped>\n",
       "    .dataframe tbody tr th:only-of-type {\n",
       "        vertical-align: middle;\n",
       "    }\n",
       "\n",
       "    .dataframe tbody tr th {\n",
       "        vertical-align: top;\n",
       "    }\n",
       "\n",
       "    .dataframe thead th {\n",
       "        text-align: right;\n",
       "    }\n",
       "</style>\n",
       "<table border=\"1\" class=\"dataframe\">\n",
       "  <thead>\n",
       "    <tr style=\"text-align: right;\">\n",
       "      <th></th>\n",
       "      <th>YEAR</th>\n",
       "      <th>MONTH</th>\n",
       "      <th>DAY</th>\n",
       "      <th>DAY_OF_WEEK</th>\n",
       "      <th>AIRLINE</th>\n",
       "      <th>FLIGHT_NUMBER</th>\n",
       "      <th>TAIL_NUMBER</th>\n",
       "      <th>ORIGIN_AIRPORT</th>\n",
       "      <th>DESTINATION_AIRPORT</th>\n",
       "      <th>SCHEDULED_DEPARTURE</th>\n",
       "      <th>...</th>\n",
       "      <th>ARRIVAL_TIME</th>\n",
       "      <th>ARRIVAL_DELAY</th>\n",
       "      <th>DIVERTED</th>\n",
       "      <th>CANCELLED</th>\n",
       "      <th>CANCELLATION_REASON</th>\n",
       "      <th>AIR_SYSTEM_DELAY</th>\n",
       "      <th>SECURITY_DELAY</th>\n",
       "      <th>AIRLINE_DELAY</th>\n",
       "      <th>LATE_AIRCRAFT_DELAY</th>\n",
       "      <th>WEATHER_DELAY</th>\n",
       "    </tr>\n",
       "  </thead>\n",
       "  <tbody>\n",
       "    <tr>\n",
       "      <th>0</th>\n",
       "      <td>2015</td>\n",
       "      <td>1</td>\n",
       "      <td>1</td>\n",
       "      <td>4</td>\n",
       "      <td>EV</td>\n",
       "      <td>4160</td>\n",
       "      <td>N11150</td>\n",
       "      <td>JAX</td>\n",
       "      <td>EWR</td>\n",
       "      <td>540</td>\n",
       "      <td>...</td>\n",
       "      <td>743.0</td>\n",
       "      <td>-14.0</td>\n",
       "      <td>0</td>\n",
       "      <td>0</td>\n",
       "      <td>NaN</td>\n",
       "      <td>NaN</td>\n",
       "      <td>NaN</td>\n",
       "      <td>NaN</td>\n",
       "      <td>NaN</td>\n",
       "      <td>NaN</td>\n",
       "    </tr>\n",
       "    <tr>\n",
       "      <th>1</th>\n",
       "      <td>2015</td>\n",
       "      <td>1</td>\n",
       "      <td>1</td>\n",
       "      <td>4</td>\n",
       "      <td>AA</td>\n",
       "      <td>1635</td>\n",
       "      <td>N025AA</td>\n",
       "      <td>ATL</td>\n",
       "      <td>DFW</td>\n",
       "      <td>625</td>\n",
       "      <td>...</td>\n",
       "      <td>NaN</td>\n",
       "      <td>NaN</td>\n",
       "      <td>0</td>\n",
       "      <td>1</td>\n",
       "      <td>B</td>\n",
       "      <td>NaN</td>\n",
       "      <td>NaN</td>\n",
       "      <td>NaN</td>\n",
       "      <td>NaN</td>\n",
       "      <td>NaN</td>\n",
       "    </tr>\n",
       "    <tr>\n",
       "      <th>2</th>\n",
       "      <td>2015</td>\n",
       "      <td>1</td>\n",
       "      <td>1</td>\n",
       "      <td>4</td>\n",
       "      <td>WN</td>\n",
       "      <td>119</td>\n",
       "      <td>N271LV</td>\n",
       "      <td>RSW</td>\n",
       "      <td>ATL</td>\n",
       "      <td>800</td>\n",
       "      <td>...</td>\n",
       "      <td>934.0</td>\n",
       "      <td>-11.0</td>\n",
       "      <td>0</td>\n",
       "      <td>0</td>\n",
       "      <td>NaN</td>\n",
       "      <td>NaN</td>\n",
       "      <td>NaN</td>\n",
       "      <td>NaN</td>\n",
       "      <td>NaN</td>\n",
       "      <td>NaN</td>\n",
       "    </tr>\n",
       "    <tr>\n",
       "      <th>3</th>\n",
       "      <td>2015</td>\n",
       "      <td>1</td>\n",
       "      <td>1</td>\n",
       "      <td>4</td>\n",
       "      <td>EV</td>\n",
       "      <td>4936</td>\n",
       "      <td>N738EV</td>\n",
       "      <td>MSP</td>\n",
       "      <td>IAD</td>\n",
       "      <td>900</td>\n",
       "      <td>...</td>\n",
       "      <td>1240.0</td>\n",
       "      <td>12.0</td>\n",
       "      <td>0</td>\n",
       "      <td>0</td>\n",
       "      <td>NaN</td>\n",
       "      <td>NaN</td>\n",
       "      <td>NaN</td>\n",
       "      <td>NaN</td>\n",
       "      <td>NaN</td>\n",
       "      <td>NaN</td>\n",
       "    </tr>\n",
       "    <tr>\n",
       "      <th>4</th>\n",
       "      <td>2015</td>\n",
       "      <td>1</td>\n",
       "      <td>1</td>\n",
       "      <td>4</td>\n",
       "      <td>DL</td>\n",
       "      <td>2319</td>\n",
       "      <td>N960DL</td>\n",
       "      <td>LGA</td>\n",
       "      <td>MSP</td>\n",
       "      <td>1010</td>\n",
       "      <td>...</td>\n",
       "      <td>1225.0</td>\n",
       "      <td>-5.0</td>\n",
       "      <td>0</td>\n",
       "      <td>0</td>\n",
       "      <td>NaN</td>\n",
       "      <td>NaN</td>\n",
       "      <td>NaN</td>\n",
       "      <td>NaN</td>\n",
       "      <td>NaN</td>\n",
       "      <td>NaN</td>\n",
       "    </tr>\n",
       "  </tbody>\n",
       "</table>\n",
       "<p>5 rows × 31 columns</p>\n",
       "</div>"
      ],
      "text/plain": [
       "   YEAR  MONTH  DAY  DAY_OF_WEEK AIRLINE  FLIGHT_NUMBER TAIL_NUMBER  \\\n",
       "0  2015      1    1            4      EV           4160      N11150   \n",
       "1  2015      1    1            4      AA           1635      N025AA   \n",
       "2  2015      1    1            4      WN            119      N271LV   \n",
       "3  2015      1    1            4      EV           4936      N738EV   \n",
       "4  2015      1    1            4      DL           2319      N960DL   \n",
       "\n",
       "  ORIGIN_AIRPORT DESTINATION_AIRPORT  SCHEDULED_DEPARTURE  ...  ARRIVAL_TIME  \\\n",
       "0            JAX                 EWR                  540  ...         743.0   \n",
       "1            ATL                 DFW                  625  ...           NaN   \n",
       "2            RSW                 ATL                  800  ...         934.0   \n",
       "3            MSP                 IAD                  900  ...        1240.0   \n",
       "4            LGA                 MSP                 1010  ...        1225.0   \n",
       "\n",
       "   ARRIVAL_DELAY  DIVERTED  CANCELLED  CANCELLATION_REASON  AIR_SYSTEM_DELAY  \\\n",
       "0          -14.0         0          0                  NaN               NaN   \n",
       "1            NaN         0          1                    B               NaN   \n",
       "2          -11.0         0          0                  NaN               NaN   \n",
       "3           12.0         0          0                  NaN               NaN   \n",
       "4           -5.0         0          0                  NaN               NaN   \n",
       "\n",
       "   SECURITY_DELAY  AIRLINE_DELAY  LATE_AIRCRAFT_DELAY  WEATHER_DELAY  \n",
       "0             NaN            NaN                  NaN            NaN  \n",
       "1             NaN            NaN                  NaN            NaN  \n",
       "2             NaN            NaN                  NaN            NaN  \n",
       "3             NaN            NaN                  NaN            NaN  \n",
       "4             NaN            NaN                  NaN            NaN  \n",
       "\n",
       "[5 rows x 31 columns]"
      ]
     },
     "execution_count": 2,
     "metadata": {},
     "output_type": "execute_result"
    }
   ],
   "source": [
    "#Top 5 rows of the dataset\n",
    "flight.head(5)"
   ]
  },
  {
   "cell_type": "code",
   "execution_count": 3,
   "metadata": {},
   "outputs": [
    {
     "data": {
      "text/html": [
       "<div>\n",
       "<style scoped>\n",
       "    .dataframe tbody tr th:only-of-type {\n",
       "        vertical-align: middle;\n",
       "    }\n",
       "\n",
       "    .dataframe tbody tr th {\n",
       "        vertical-align: top;\n",
       "    }\n",
       "\n",
       "    .dataframe thead th {\n",
       "        text-align: right;\n",
       "    }\n",
       "</style>\n",
       "<table border=\"1\" class=\"dataframe\">\n",
       "  <thead>\n",
       "    <tr style=\"text-align: right;\">\n",
       "      <th></th>\n",
       "      <th>YEAR</th>\n",
       "      <th>MONTH</th>\n",
       "      <th>DAY</th>\n",
       "      <th>DAY_OF_WEEK</th>\n",
       "      <th>AIRLINE</th>\n",
       "      <th>FLIGHT_NUMBER</th>\n",
       "      <th>TAIL_NUMBER</th>\n",
       "      <th>ORIGIN_AIRPORT</th>\n",
       "      <th>DESTINATION_AIRPORT</th>\n",
       "      <th>SCHEDULED_DEPARTURE</th>\n",
       "      <th>...</th>\n",
       "      <th>ARRIVAL_TIME</th>\n",
       "      <th>ARRIVAL_DELAY</th>\n",
       "      <th>DIVERTED</th>\n",
       "      <th>CANCELLED</th>\n",
       "      <th>CANCELLATION_REASON</th>\n",
       "      <th>AIR_SYSTEM_DELAY</th>\n",
       "      <th>SECURITY_DELAY</th>\n",
       "      <th>AIRLINE_DELAY</th>\n",
       "      <th>LATE_AIRCRAFT_DELAY</th>\n",
       "      <th>WEATHER_DELAY</th>\n",
       "    </tr>\n",
       "  </thead>\n",
       "  <tbody>\n",
       "    <tr>\n",
       "      <th>5816</th>\n",
       "      <td>2015</td>\n",
       "      <td>12</td>\n",
       "      <td>31</td>\n",
       "      <td>4</td>\n",
       "      <td>UA</td>\n",
       "      <td>436</td>\n",
       "      <td>N69838</td>\n",
       "      <td>IAD</td>\n",
       "      <td>TPA</td>\n",
       "      <td>1230</td>\n",
       "      <td>...</td>\n",
       "      <td>1448.0</td>\n",
       "      <td>-12.0</td>\n",
       "      <td>0</td>\n",
       "      <td>0</td>\n",
       "      <td>NaN</td>\n",
       "      <td>NaN</td>\n",
       "      <td>NaN</td>\n",
       "      <td>NaN</td>\n",
       "      <td>NaN</td>\n",
       "      <td>NaN</td>\n",
       "    </tr>\n",
       "    <tr>\n",
       "      <th>5817</th>\n",
       "      <td>2015</td>\n",
       "      <td>12</td>\n",
       "      <td>31</td>\n",
       "      <td>4</td>\n",
       "      <td>WN</td>\n",
       "      <td>2265</td>\n",
       "      <td>N626SW</td>\n",
       "      <td>TUL</td>\n",
       "      <td>LAS</td>\n",
       "      <td>1345</td>\n",
       "      <td>...</td>\n",
       "      <td>1523.0</td>\n",
       "      <td>38.0</td>\n",
       "      <td>0</td>\n",
       "      <td>0</td>\n",
       "      <td>NaN</td>\n",
       "      <td>0.0</td>\n",
       "      <td>0.0</td>\n",
       "      <td>8.0</td>\n",
       "      <td>30.0</td>\n",
       "      <td>0.0</td>\n",
       "    </tr>\n",
       "    <tr>\n",
       "      <th>5818</th>\n",
       "      <td>2015</td>\n",
       "      <td>12</td>\n",
       "      <td>31</td>\n",
       "      <td>4</td>\n",
       "      <td>MQ</td>\n",
       "      <td>3083</td>\n",
       "      <td>N513MQ</td>\n",
       "      <td>STL</td>\n",
       "      <td>ORD</td>\n",
       "      <td>1358</td>\n",
       "      <td>...</td>\n",
       "      <td>1525.0</td>\n",
       "      <td>2.0</td>\n",
       "      <td>0</td>\n",
       "      <td>0</td>\n",
       "      <td>NaN</td>\n",
       "      <td>NaN</td>\n",
       "      <td>NaN</td>\n",
       "      <td>NaN</td>\n",
       "      <td>NaN</td>\n",
       "      <td>NaN</td>\n",
       "    </tr>\n",
       "    <tr>\n",
       "      <th>5819</th>\n",
       "      <td>2015</td>\n",
       "      <td>12</td>\n",
       "      <td>31</td>\n",
       "      <td>4</td>\n",
       "      <td>EV</td>\n",
       "      <td>2775</td>\n",
       "      <td>N624AE</td>\n",
       "      <td>SPI</td>\n",
       "      <td>DFW</td>\n",
       "      <td>1411</td>\n",
       "      <td>...</td>\n",
       "      <td>1605.0</td>\n",
       "      <td>-22.0</td>\n",
       "      <td>0</td>\n",
       "      <td>0</td>\n",
       "      <td>NaN</td>\n",
       "      <td>NaN</td>\n",
       "      <td>NaN</td>\n",
       "      <td>NaN</td>\n",
       "      <td>NaN</td>\n",
       "      <td>NaN</td>\n",
       "    </tr>\n",
       "    <tr>\n",
       "      <th>5820</th>\n",
       "      <td>2015</td>\n",
       "      <td>12</td>\n",
       "      <td>31</td>\n",
       "      <td>4</td>\n",
       "      <td>WN</td>\n",
       "      <td>3479</td>\n",
       "      <td>N719SW</td>\n",
       "      <td>CMH</td>\n",
       "      <td>PHX</td>\n",
       "      <td>1450</td>\n",
       "      <td>...</td>\n",
       "      <td>1734.0</td>\n",
       "      <td>19.0</td>\n",
       "      <td>0</td>\n",
       "      <td>0</td>\n",
       "      <td>NaN</td>\n",
       "      <td>19.0</td>\n",
       "      <td>0.0</td>\n",
       "      <td>0.0</td>\n",
       "      <td>0.0</td>\n",
       "      <td>0.0</td>\n",
       "    </tr>\n",
       "  </tbody>\n",
       "</table>\n",
       "<p>5 rows × 31 columns</p>\n",
       "</div>"
      ],
      "text/plain": [
       "      YEAR  MONTH  DAY  DAY_OF_WEEK AIRLINE  FLIGHT_NUMBER TAIL_NUMBER  \\\n",
       "5816  2015     12   31            4      UA            436      N69838   \n",
       "5817  2015     12   31            4      WN           2265      N626SW   \n",
       "5818  2015     12   31            4      MQ           3083      N513MQ   \n",
       "5819  2015     12   31            4      EV           2775      N624AE   \n",
       "5820  2015     12   31            4      WN           3479      N719SW   \n",
       "\n",
       "     ORIGIN_AIRPORT DESTINATION_AIRPORT  SCHEDULED_DEPARTURE  ...  \\\n",
       "5816            IAD                 TPA                 1230  ...   \n",
       "5817            TUL                 LAS                 1345  ...   \n",
       "5818            STL                 ORD                 1358  ...   \n",
       "5819            SPI                 DFW                 1411  ...   \n",
       "5820            CMH                 PHX                 1450  ...   \n",
       "\n",
       "      ARRIVAL_TIME  ARRIVAL_DELAY  DIVERTED  CANCELLED  CANCELLATION_REASON  \\\n",
       "5816        1448.0          -12.0         0          0                  NaN   \n",
       "5817        1523.0           38.0         0          0                  NaN   \n",
       "5818        1525.0            2.0         0          0                  NaN   \n",
       "5819        1605.0          -22.0         0          0                  NaN   \n",
       "5820        1734.0           19.0         0          0                  NaN   \n",
       "\n",
       "      AIR_SYSTEM_DELAY  SECURITY_DELAY  AIRLINE_DELAY  LATE_AIRCRAFT_DELAY  \\\n",
       "5816               NaN             NaN            NaN                  NaN   \n",
       "5817               0.0             0.0            8.0                 30.0   \n",
       "5818               NaN             NaN            NaN                  NaN   \n",
       "5819               NaN             NaN            NaN                  NaN   \n",
       "5820              19.0             0.0            0.0                  0.0   \n",
       "\n",
       "      WEATHER_DELAY  \n",
       "5816            NaN  \n",
       "5817            0.0  \n",
       "5818            NaN  \n",
       "5819            NaN  \n",
       "5820            0.0  \n",
       "\n",
       "[5 rows x 31 columns]"
      ]
     },
     "execution_count": 3,
     "metadata": {},
     "output_type": "execute_result"
    }
   ],
   "source": [
    "#Bottom 5 rows of the dataset\n",
    "flight.tail()"
   ]
  },
  {
   "cell_type": "code",
   "execution_count": 4,
   "metadata": {},
   "outputs": [
    {
     "name": "stdout",
     "output_type": "stream",
     "text": [
      "Total No. of observations : 5821\n"
     ]
    }
   ],
   "source": [
    "#Number of observations\n",
    "print(\"Total No. of observations : {}\".format(len(flight)))"
   ]
  },
  {
   "cell_type": "code",
   "execution_count": 5,
   "metadata": {},
   "outputs": [
    {
     "name": "stdout",
     "output_type": "stream",
     "text": [
      "Total No. of features : 31\n"
     ]
    }
   ],
   "source": [
    "#The number of features/columns\n",
    "print(\"Total No. of features : {}\".format(len(flight.columns)))"
   ]
  },
  {
   "cell_type": "code",
   "execution_count": 6,
   "metadata": {},
   "outputs": [
    {
     "name": "stdout",
     "output_type": "stream",
     "text": [
      "YEAR\n",
      "MONTH\n",
      "DAY\n",
      "DAY_OF_WEEK\n",
      "AIRLINE\n",
      "FLIGHT_NUMBER\n",
      "TAIL_NUMBER\n",
      "ORIGIN_AIRPORT\n",
      "DESTINATION_AIRPORT\n",
      "SCHEDULED_DEPARTURE\n",
      "DEPARTURE_TIME\n",
      "DEPARTURE_DELAY\n",
      "TAXI_OUT\n",
      "WHEELS_OFF\n",
      "SCHEDULED_TIME\n",
      "ELAPSED_TIME\n",
      "AIR_TIME\n",
      "DISTANCE\n",
      "WHEELS_ON\n",
      "TAXI_IN\n",
      "SCHEDULED_ARRIVAL\n",
      "ARRIVAL_TIME\n",
      "ARRIVAL_DELAY\n",
      "DIVERTED\n",
      "CANCELLED\n",
      "CANCELLATION_REASON\n",
      "AIR_SYSTEM_DELAY\n",
      "SECURITY_DELAY\n",
      "AIRLINE_DELAY\n",
      "LATE_AIRCRAFT_DELAY\n",
      "WEATHER_DELAY\n"
     ]
    }
   ],
   "source": [
    "#Names of columns\n",
    "for col in flight.columns:\n",
    "    print(col)"
   ]
  },
  {
   "cell_type": "code",
   "execution_count": 7,
   "metadata": {},
   "outputs": [
    {
     "name": "stdout",
     "output_type": "stream",
     "text": [
      "<class 'pandas.core.frame.DataFrame'>\n",
      "RangeIndex: 5821 entries, 0 to 5820\n",
      "Data columns (total 31 columns):\n",
      " #   Column               Non-Null Count  Dtype  \n",
      "---  ------               --------------  -----  \n",
      " 0   YEAR                 5821 non-null   int64  \n",
      " 1   MONTH                5821 non-null   int64  \n",
      " 2   DAY                  5821 non-null   int64  \n",
      " 3   DAY_OF_WEEK          5821 non-null   int64  \n",
      " 4   AIRLINE              5821 non-null   object \n",
      " 5   FLIGHT_NUMBER        5821 non-null   int64  \n",
      " 6   TAIL_NUMBER          5805 non-null   object \n",
      " 7   ORIGIN_AIRPORT       5821 non-null   object \n",
      " 8   DESTINATION_AIRPORT  5821 non-null   object \n",
      " 9   SCHEDULED_DEPARTURE  5821 non-null   int64  \n",
      " 10  DEPARTURE_TIME       5730 non-null   float64\n",
      " 11  DEPARTURE_DELAY      5730 non-null   float64\n",
      " 12  TAXI_OUT             5728 non-null   float64\n",
      " 13  WHEELS_OFF           5728 non-null   float64\n",
      " 14  SCHEDULED_TIME       5821 non-null   int64  \n",
      " 15  ELAPSED_TIME         5713 non-null   float64\n",
      " 16  AIR_TIME             5713 non-null   float64\n",
      " 17  DISTANCE             5821 non-null   int64  \n",
      " 18  WHEELS_ON            5727 non-null   float64\n",
      " 19  TAXI_IN              5727 non-null   float64\n",
      " 20  SCHEDULED_ARRIVAL    5821 non-null   int64  \n",
      " 21  ARRIVAL_TIME         5727 non-null   float64\n",
      " 22  ARRIVAL_DELAY        5713 non-null   float64\n",
      " 23  DIVERTED             5821 non-null   int64  \n",
      " 24  CANCELLED            5821 non-null   int64  \n",
      " 25  CANCELLATION_REASON  93 non-null     object \n",
      " 26  AIR_SYSTEM_DELAY     1072 non-null   float64\n",
      " 27  SECURITY_DELAY       1072 non-null   float64\n",
      " 28  AIRLINE_DELAY        1072 non-null   float64\n",
      " 29  LATE_AIRCRAFT_DELAY  1072 non-null   float64\n",
      " 30  WEATHER_DELAY        1072 non-null   float64\n",
      "dtypes: float64(15), int64(11), object(5)\n",
      "memory usage: 1.4+ MB\n"
     ]
    }
   ],
   "source": [
    "#Information about the columns, type and the not null values\n",
    "flight.info()"
   ]
  },
  {
   "cell_type": "markdown",
   "metadata": {},
   "source": [
    "### 3. Part I : Exploratory Analysis"
   ]
  },
  {
   "cell_type": "markdown",
   "metadata": {},
   "source": [
    "We perform EDA to investigate patterns, correlation on our dataset. Our main focus is about Arrival and Departure delays. We compare different features to gain insights on the factors responsible for arrival and departure delays. The analysis is limited to the range and variables in the dataset."
   ]
  },
  {
   "cell_type": "markdown",
   "metadata": {},
   "source": [
    "#### 3.1. Departure and arrival delay"
   ]
  },
  {
   "cell_type": "code",
   "execution_count": 8,
   "metadata": {},
   "outputs": [
    {
     "name": "stdout",
     "output_type": "stream",
     "text": [
      "The missing values in departure delays: 91\n",
      "The missing values in Arrival delays: 108\n"
     ]
    }
   ],
   "source": [
    "# Missing values in departure and arrival delays\n",
    "print(\"The missing values in departure delays: {}\" .format(flight['DEPARTURE_DELAY'].isnull().sum()))\n",
    "print(\"The missing values in Arrival delays: {}\" .format(flight['ARRIVAL_DELAY'].isnull().sum()))"
   ]
  },
  {
   "cell_type": "code",
   "execution_count": 9,
   "metadata": {},
   "outputs": [
    {
     "data": {
      "text/html": [
       "<div>\n",
       "<style scoped>\n",
       "    .dataframe tbody tr th:only-of-type {\n",
       "        vertical-align: middle;\n",
       "    }\n",
       "\n",
       "    .dataframe tbody tr th {\n",
       "        vertical-align: top;\n",
       "    }\n",
       "\n",
       "    .dataframe thead th {\n",
       "        text-align: right;\n",
       "    }\n",
       "</style>\n",
       "<table border=\"1\" class=\"dataframe\">\n",
       "  <thead>\n",
       "    <tr style=\"text-align: right;\">\n",
       "      <th></th>\n",
       "      <th>ARRIVAL_DELAY</th>\n",
       "      <th>ARRIVAL_TIME</th>\n",
       "      <th>DEPARTURE_DELAY</th>\n",
       "      <th>DEPARTURE_TIME</th>\n",
       "    </tr>\n",
       "  </thead>\n",
       "  <tbody>\n",
       "    <tr>\n",
       "      <th>1</th>\n",
       "      <td>NaN</td>\n",
       "      <td>NaN</td>\n",
       "      <td>NaN</td>\n",
       "      <td>NaN</td>\n",
       "    </tr>\n",
       "    <tr>\n",
       "      <th>10</th>\n",
       "      <td>NaN</td>\n",
       "      <td>NaN</td>\n",
       "      <td>NaN</td>\n",
       "      <td>NaN</td>\n",
       "    </tr>\n",
       "    <tr>\n",
       "      <th>47</th>\n",
       "      <td>NaN</td>\n",
       "      <td>NaN</td>\n",
       "      <td>NaN</td>\n",
       "      <td>NaN</td>\n",
       "    </tr>\n",
       "    <tr>\n",
       "      <th>115</th>\n",
       "      <td>NaN</td>\n",
       "      <td>NaN</td>\n",
       "      <td>NaN</td>\n",
       "      <td>NaN</td>\n",
       "    </tr>\n",
       "    <tr>\n",
       "      <th>116</th>\n",
       "      <td>NaN</td>\n",
       "      <td>NaN</td>\n",
       "      <td>NaN</td>\n",
       "      <td>NaN</td>\n",
       "    </tr>\n",
       "    <tr>\n",
       "      <th>172</th>\n",
       "      <td>NaN</td>\n",
       "      <td>NaN</td>\n",
       "      <td>NaN</td>\n",
       "      <td>NaN</td>\n",
       "    </tr>\n",
       "    <tr>\n",
       "      <th>174</th>\n",
       "      <td>NaN</td>\n",
       "      <td>NaN</td>\n",
       "      <td>NaN</td>\n",
       "      <td>NaN</td>\n",
       "    </tr>\n",
       "    <tr>\n",
       "      <th>190</th>\n",
       "      <td>NaN</td>\n",
       "      <td>NaN</td>\n",
       "      <td>NaN</td>\n",
       "      <td>NaN</td>\n",
       "    </tr>\n",
       "    <tr>\n",
       "      <th>350</th>\n",
       "      <td>NaN</td>\n",
       "      <td>NaN</td>\n",
       "      <td>31.0</td>\n",
       "      <td>1221.0</td>\n",
       "    </tr>\n",
       "    <tr>\n",
       "      <th>359</th>\n",
       "      <td>NaN</td>\n",
       "      <td>NaN</td>\n",
       "      <td>NaN</td>\n",
       "      <td>NaN</td>\n",
       "    </tr>\n",
       "  </tbody>\n",
       "</table>\n",
       "</div>"
      ],
      "text/plain": [
       "     ARRIVAL_DELAY  ARRIVAL_TIME  DEPARTURE_DELAY  DEPARTURE_TIME\n",
       "1              NaN           NaN              NaN             NaN\n",
       "10             NaN           NaN              NaN             NaN\n",
       "47             NaN           NaN              NaN             NaN\n",
       "115            NaN           NaN              NaN             NaN\n",
       "116            NaN           NaN              NaN             NaN\n",
       "172            NaN           NaN              NaN             NaN\n",
       "174            NaN           NaN              NaN             NaN\n",
       "190            NaN           NaN              NaN             NaN\n",
       "350            NaN           NaN             31.0          1221.0\n",
       "359            NaN           NaN              NaN             NaN"
      ]
     },
     "execution_count": 9,
     "metadata": {},
     "output_type": "execute_result"
    }
   ],
   "source": [
    "#Top 10 values where the arrival and departure delays are missing\n",
    "flight[(flight['ARRIVAL_DELAY'].isnull()) | (flight['DEPARTURE_DELAY'].isnull()) ][['ARRIVAL_DELAY','ARRIVAL_TIME','DEPARTURE_DELAY','DEPARTURE_TIME']].head(10)"
   ]
  },
  {
   "cell_type": "markdown",
   "metadata": {},
   "source": [
    "The missing values of both correspond to the same observations. The departure and arrival time is also a missing value for the corresponding missing departure and arrival delays in most cases. We can assume that the arrival delays have more missing values than departure delay because- (1) It could be the first time the flight is flying, hence no prior commercial arrival (2) Or simply that entry was missed. It is hard to know for sure without more information.. Hence, we shall drop the missing values from departure and arrival delay from our dataset. "
   ]
  },
  {
   "cell_type": "code",
   "execution_count": 10,
   "metadata": {},
   "outputs": [],
   "source": [
    "#Dropping the null values in departure and arrival delay\n",
    "flight.dropna(subset=['DEPARTURE_DELAY','ARRIVAL_DELAY'],inplace=True)\n"
   ]
  },
  {
   "cell_type": "code",
   "execution_count": 11,
   "metadata": {},
   "outputs": [
    {
     "data": {
      "text/plain": [
       "5713"
      ]
     },
     "execution_count": 11,
     "metadata": {},
     "output_type": "execute_result"
    }
   ],
   "source": [
    "#Total number of observations after dropping the null values of departure and arrival delay\n",
    "len(flight)"
   ]
  },
  {
   "cell_type": "code",
   "execution_count": 12,
   "metadata": {},
   "outputs": [
    {
     "name": "stdout",
     "output_type": "stream",
     "text": [
      "The missing values in departure delays: 0\n",
      "The missing values in Arrival delays: 0\n"
     ]
    }
   ],
   "source": [
    "# The current number of missing values in departyure and arrival delays\n",
    "print(\"The missing values in departure delays: {}\" .format(flight['DEPARTURE_DELAY'].isnull().sum()))\n",
    "print(\"The missing values in Arrival delays: {}\" .format(flight['ARRIVAL_DELAY'].isnull().sum()))"
   ]
  },
  {
   "cell_type": "code",
   "execution_count": 13,
   "metadata": {},
   "outputs": [
    {
     "data": {
      "image/png": "[encoded data removed]",
      "text/plain": [
       "<Figure size 2000x1000 with 1 Axes>"
      ]
     },
     "metadata": {},
     "output_type": "display_data"
    }
   ],
   "source": [
    "#Scatter plot between arrival and departure delay\n",
    "plt.figure(figsize=(20,10))\n",
    "sns.scatterplot(x=\"DEPARTURE_DELAY\",y=\"ARRIVAL_DELAY\",data=flight)\n",
    "plt.xlabel(\"\\nDeparture delay\" ,fontsize=18)\n",
    "plt.ylabel(\"Arrival delay\" ,fontsize=18)\n",
    "plt.title(\"\\nArrival delays vs departure delays\\n\",fontsize=20)\n",
    "plt.tick_params(labelsize=18)\n",
    "plt.show()"
   ]
  },
  {
   "cell_type": "markdown",
   "metadata": {},
   "source": [
    "There is a somewhat linear relationship between arrrival delay and departure delay.Which means, the flights that depart late would arrive late and viceversa"
   ]
  },
  {
   "cell_type": "code",
   "execution_count": 14,
   "metadata": {},
   "outputs": [
    {
     "name": "stdout",
     "output_type": "stream",
     "text": [
      "Average departure delay : 8.886574479257833 \n",
      "Median departure delay : -2.0 \n",
      "Average arrival delay : 3.9882723612812883 \n",
      "Median arrival delay : -5.0 \n"
     ]
    }
   ],
   "source": [
    "# Mean and median of arrival and departure delay\n",
    "print(\"Average departure delay : {} \" .format(flight['DEPARTURE_DELAY'].mean()))\n",
    "print(\"Median departure delay : {} \" .format(flight['DEPARTURE_DELAY'].median()))\n",
    "print(\"Average arrival delay : {} \" .format(flight['ARRIVAL_DELAY'].mean()))\n",
    "print(\"Median arrival delay : {} \" .format(flight['ARRIVAL_DELAY'].median()))"
   ]
  },
  {
   "cell_type": "markdown",
   "metadata": {},
   "source": [
    "The average departure delay is more than the average arrival delay. As we do not know the definite reason for this, we can make some assumptions as to why the departure delay is higher than the arrival delay-(1) There are many more factors involved in departure, eg: airline delay, security delay, weather delay, compared to arrival delay which is affected by fewer factors like weather delay. (2) Many times, if the distance is more, the distance makes up for the departure delay. Similarly, the median of departure delay is higher than arrival delay suggesting that departure delay is on the higher side compared to arrival delay. "
   ]
  },
  {
   "cell_type": "markdown",
   "metadata": {},
   "source": [
    "#### 3.2 Departure and arrival delays based on airlines"
   ]
  },
  {
   "cell_type": "code",
   "execution_count": 15,
   "metadata": {},
   "outputs": [
    {
     "name": "stdout",
     "output_type": "stream",
     "text": [
      "The No. of airlines : 14\n",
      "The different airlines and their count : \n",
      "\n"
     ]
    },
    {
     "data": {
      "text/html": [
       "<div>\n",
       "<style scoped>\n",
       "    .dataframe tbody tr th:only-of-type {\n",
       "        vertical-align: middle;\n",
       "    }\n",
       "\n",
       "    .dataframe tbody tr th {\n",
       "        vertical-align: top;\n",
       "    }\n",
       "\n",
       "    .dataframe thead th {\n",
       "        text-align: right;\n",
       "    }\n",
       "</style>\n",
       "<table border=\"1\" class=\"dataframe\">\n",
       "  <thead>\n",
       "    <tr style=\"text-align: right;\">\n",
       "      <th></th>\n",
       "      <th>count</th>\n",
       "    </tr>\n",
       "    <tr>\n",
       "      <th>AIRLINE</th>\n",
       "      <th></th>\n",
       "    </tr>\n",
       "  </thead>\n",
       "  <tbody>\n",
       "    <tr>\n",
       "      <th>WN</th>\n",
       "      <td>1269</td>\n",
       "    </tr>\n",
       "    <tr>\n",
       "      <th>DL</th>\n",
       "      <td>918</td>\n",
       "    </tr>\n",
       "    <tr>\n",
       "      <th>AA</th>\n",
       "      <td>710</td>\n",
       "    </tr>\n",
       "    <tr>\n",
       "      <th>OO</th>\n",
       "      <td>575</td>\n",
       "    </tr>\n",
       "    <tr>\n",
       "      <th>EV</th>\n",
       "      <td>546</td>\n",
       "    </tr>\n",
       "    <tr>\n",
       "      <th>UA</th>\n",
       "      <td>506</td>\n",
       "    </tr>\n",
       "    <tr>\n",
       "      <th>MQ</th>\n",
       "      <td>269</td>\n",
       "    </tr>\n",
       "    <tr>\n",
       "      <th>B6</th>\n",
       "      <td>257</td>\n",
       "    </tr>\n",
       "    <tr>\n",
       "      <th>US</th>\n",
       "      <td>206</td>\n",
       "    </tr>\n",
       "    <tr>\n",
       "      <th>AS</th>\n",
       "      <td>145</td>\n",
       "    </tr>\n",
       "    <tr>\n",
       "      <th>NK</th>\n",
       "      <td>118</td>\n",
       "    </tr>\n",
       "    <tr>\n",
       "      <th>F9</th>\n",
       "      <td>73</td>\n",
       "    </tr>\n",
       "    <tr>\n",
       "      <th>VX</th>\n",
       "      <td>64</td>\n",
       "    </tr>\n",
       "    <tr>\n",
       "      <th>HA</th>\n",
       "      <td>57</td>\n",
       "    </tr>\n",
       "  </tbody>\n",
       "</table>\n",
       "</div>"
      ],
      "text/plain": [
       "         count\n",
       "AIRLINE       \n",
       "WN        1269\n",
       "DL         918\n",
       "AA         710\n",
       "OO         575\n",
       "EV         546\n",
       "UA         506\n",
       "MQ         269\n",
       "B6         257\n",
       "US         206\n",
       "AS         145\n",
       "NK         118\n",
       "F9          73\n",
       "VX          64\n",
       "HA          57"
      ]
     },
     "execution_count": 15,
     "metadata": {},
     "output_type": "execute_result"
    }
   ],
   "source": [
    "#No. of airlines\n",
    "print(\"The No. of airlines : {}\".format(flight['AIRLINE'].nunique()))\n",
    "# Number of observations in each of the 14 airlines\n",
    "print(\"The different airlines and their count : \\n\")\n",
    "count_air=pd.DataFrame(flight['AIRLINE'].value_counts())\n",
    "count_air=count_air.rename(columns={'AIRLINE':'COUNT'})\n",
    "count_air"
   ]
  },
  {
   "cell_type": "code",
   "execution_count": 16,
   "metadata": {},
   "outputs": [
    {
     "data": {
      "image/png": "[encoded data removed]",
      "text/plain": [
       "<Figure size 3000x2000 with 1 Axes>"
      ]
     },
     "metadata": {},
     "output_type": "display_data"
    }
   ],
   "source": [
    "plt.figure(figsize=(30,20))# Creating an empty plot \n",
    "ax=sns.countplot(x=flight['AIRLINE'])# Countplot of airlines\n",
    "plt.tick_params(labelsize=25)# changing the label sizes\n",
    "plt.xlabel(\"\\nAirlines\" ,fontsize=25) # Adding x-label \n",
    "plt.ylabel(\"Count\" ,fontsize=25) #Adding y-label\n",
    "plt.title(\"\\nNumber of each airlines\\n\",fontsize=25) # Adding plot title\n",
    "for p in ax.patches:\n",
    "    ax.annotate('{}'.format(p.get_height()),(p.get_x()+0.35,p.get_height()+5)) # Adding the count above the bars\n",
    "plt.show()"
   ]
  },
  {
   "cell_type": "code",
   "execution_count": 17,
   "metadata": {},
   "outputs": [
    {
     "ename": "ValueError",
     "evalue": "var_name=['ARRIVAL/DEPARTURE DELAY'] must be a scalar.",
     "output_type": "error",
     "traceback": [
      "\u001b[1;31m---------------------------------------------------------------------------\u001b[0m",
      "\u001b[1;31mValueError\u001b[0m                                Traceback (most recent call last)",
      "Cell \u001b[1;32mIn[17], line 3\u001b[0m\n\u001b[0;32m      1\u001b[0m \u001b[38;5;66;03m#Using melt() on arrival and departure delay to create one boxplot for both. Makes it easy to compare the two\u001b[39;00m\n\u001b[0;32m      2\u001b[0m flightmelt\u001b[38;5;241m=\u001b[39mflight[[\u001b[38;5;124m'\u001b[39m\u001b[38;5;124mAIRLINE\u001b[39m\u001b[38;5;124m'\u001b[39m,\u001b[38;5;124m'\u001b[39m\u001b[38;5;124mDEPARTURE_DELAY\u001b[39m\u001b[38;5;124m'\u001b[39m,\u001b[38;5;124m'\u001b[39m\u001b[38;5;124mARRIVAL_DELAY\u001b[39m\u001b[38;5;124m'\u001b[39m]]\n\u001b[1;32m----> 3\u001b[0m flightmelt\u001b[38;5;241m=\u001b[39m\u001b[43mpd\u001b[49m\u001b[38;5;241;43m.\u001b[39;49m\u001b[43mmelt\u001b[49m\u001b[43m(\u001b[49m\u001b[43mflightmelt\u001b[49m\u001b[43m,\u001b[49m\u001b[43mid_vars\u001b[49m\u001b[38;5;241;43m=\u001b[39;49m\u001b[43m[\u001b[49m\u001b[38;5;124;43m'\u001b[39;49m\u001b[38;5;124;43mAIRLINE\u001b[39;49m\u001b[38;5;124;43m'\u001b[39;49m\u001b[43m]\u001b[49m\u001b[43m,\u001b[49m\u001b[43mvar_name\u001b[49m\u001b[38;5;241;43m=\u001b[39;49m\u001b[43m[\u001b[49m\u001b[38;5;124;43m'\u001b[39;49m\u001b[38;5;124;43mARRIVAL/DEPARTURE DELAY\u001b[39;49m\u001b[38;5;124;43m'\u001b[39;49m\u001b[43m]\u001b[49m\u001b[43m,\u001b[49m\u001b[43mvalue_name\u001b[49m\u001b[38;5;241;43m=\u001b[39;49m\u001b[38;5;124;43m'\u001b[39;49m\u001b[38;5;124;43mDELAY\u001b[39;49m\u001b[38;5;124;43m'\u001b[39;49m\u001b[43m)\u001b[49m\n\u001b[0;32m      4\u001b[0m flightmelt\u001b[38;5;241m.\u001b[39mhead() \u001b[38;5;66;03m# Top 5 rows after melting\u001b[39;00m\n",
      "File \u001b[1;32mc:\\Users\\Dell pc\\AppData\\Local\\Programs\\Python\\Python311\\Lib\\site-packages\\pandas\\core\\reshape\\melt.py:100\u001b[0m, in \u001b[0;36mmelt\u001b[1;34m(frame, id_vars, value_vars, var_name, value_name, col_level, ignore_index)\u001b[0m\n\u001b[0;32m     96\u001b[0m         var_name \u001b[38;5;241m=\u001b[39m [\n\u001b[0;32m     97\u001b[0m             frame\u001b[38;5;241m.\u001b[39mcolumns\u001b[38;5;241m.\u001b[39mname \u001b[38;5;28;01mif\u001b[39;00m frame\u001b[38;5;241m.\u001b[39mcolumns\u001b[38;5;241m.\u001b[39mname \u001b[38;5;129;01mis\u001b[39;00m \u001b[38;5;129;01mnot\u001b[39;00m \u001b[38;5;28;01mNone\u001b[39;00m \u001b[38;5;28;01melse\u001b[39;00m \u001b[38;5;124m\"\u001b[39m\u001b[38;5;124mvariable\u001b[39m\u001b[38;5;124m\"\u001b[39m\n\u001b[0;32m     98\u001b[0m         ]\n\u001b[0;32m     99\u001b[0m \u001b[38;5;28;01melif\u001b[39;00m is_list_like(var_name):\n\u001b[1;32m--> 100\u001b[0m     \u001b[38;5;28;01mraise\u001b[39;00m \u001b[38;5;167;01mValueError\u001b[39;00m(\u001b[38;5;124mf\u001b[39m\u001b[38;5;124m\"\u001b[39m\u001b[38;5;132;01m{\u001b[39;00mvar_name\u001b[38;5;132;01m=}\u001b[39;00m\u001b[38;5;124m must be a scalar.\u001b[39m\u001b[38;5;124m\"\u001b[39m)\n\u001b[0;32m    101\u001b[0m \u001b[38;5;28;01melse\u001b[39;00m:\n\u001b[0;32m    102\u001b[0m     var_name \u001b[38;5;241m=\u001b[39m [var_name]\n",
      "\u001b[1;31mValueError\u001b[0m: var_name=['ARRIVAL/DEPARTURE DELAY'] must be a scalar."
     ]
    }
   ],
   "source": [
    "#Using melt() on arrival and departure delay to create one boxplot for both. Makes it easy to compare the two\n",
    "flightmelt=flight[['AIRLINE','DEPARTURE_DELAY','ARRIVAL_DELAY']]\n",
    "flightmelt=pd.melt(flightmelt,id_vars=['AIRLINE'],var_name=['ARRIVAL/DEPARTURE DELAY'],value_name='DELAY')\n",
    "flightmelt.head() # Top 5 rows after melting"
   ]
  },
  {
   "cell_type": "code",
   "execution_count": null,
   "metadata": {},
   "outputs": [],
   "source": [
    "#Boxplot of arrival delays and departure delays group by the airlines\n",
    "plt.figure(figsize=(30,20))\n",
    "sns.boxplot(x=flightmelt['AIRLINE'],y=flightmelt['DELAY'],hue=flightmelt['ARRIVAL/DEPARTURE DELAY'],linewidth=3,fliersize=5)# using the melted dataframe instead of the original dataframe\n",
    "plt.tick_params(labelsize=25)\n",
    "plt.xlabel(\"\\nAirlines\" ,fontsize=25)\n",
    "plt.ylabel(\"Delay\" ,fontsize=25)\n",
    "plt.legend(fontsize=20)\n",
    "plt.ylim(-50,100,10) #To get better visibilit of the IQR, we limit the yaxis to 100.We will compropmise on few outliers.\n",
    "plt.title(\"\\nDelays for different airlines\\n\",fontsize=25)\n",
    "plt.show()"
   ]
  },
  {
   "cell_type": "code",
   "execution_count": null,
   "metadata": {},
   "outputs": [],
   "source": [
    "#Departure delay summary grouped by airlines\n",
    "depart_airline_5=flight.groupby('AIRLINE')['DEPARTURE_DELAY'].describe()\n",
    "depart_airline_5=depart_airline_5[['mean','count','min','25%','50%','75%','max']] #Adding only the information I need to the dataframe\n",
    "depart_airline_5=depart_airline_5.rename(columns={'min':'Min','25%':'Q1','50%':'Median','75%':'Q3','max':'Max'}) # renaming few column names\n",
    "depart_airline_5=depart_airline_5.sort_values(by='Median',ascending=False) #Rearranging in descending order of median\n",
    "print(\"\\nDEPARTURE DELAY SUMMARY BASED ON AIRLINES: \")\n",
    "depart_airline_5"
   ]
  },
  {
   "cell_type": "code",
   "execution_count": null,
   "metadata": {},
   "outputs": [],
   "source": [
    "#Arrival delay summary grouped by airlines\n",
    "arr_airline_5=flight.groupby('AIRLINE')['ARRIVAL_DELAY'].describe()\n",
    "arr_airline_5=arr_airline_5[['mean','count','min','25%','50%','75%','max']]  #Adding only the information I need to the dataframe\n",
    "arr_airline_5=arr_airline_5.rename(columns={'min':'Min','25%':'Q1','50%':'Median','75%':'Q3','max':'Max'}) # renaming few column names\n",
    "arr_airline_5=arr_airline_5.sort_values(by='Median',ascending=False) #Rearranging in descending order of median\n",
    "print(\"\\nARRIVAL DELAY SUMMARY BASED ON AIRLINE : \")\n",
    "arr_airline_5"
   ]
  },
  {
   "cell_type": "markdown",
   "metadata": {},
   "source": [
    "The boxplot details the departure and arrival delay for each airline. We can make several inferences from the above boxplot- (1) The median for both departure and arrival delay for most of the airlines is negative, which means most of the flights reach or depart early , which is a good thing. (2) There are many outliers for both the delays, which mean that the high outlier delays are not that common and it could happen due to some unexpected reason (we don’t know for sure). (3) Frontier Airlines Inc.(F9) has high average departure and arrival delay and didn’t have many flights (count is 73) in 2015.The maximum departure delay was also by F9, which is 650 minutes (an outlier). This value could have skewed the graph increasing the mean.                       "
   ]
  },
  {
   "cell_type": "markdown",
   "metadata": {},
   "source": [
    "#### 3.3.  Departure and arrival delay based on airports"
   ]
  },
  {
   "cell_type": "code",
   "execution_count": null,
   "metadata": {},
   "outputs": [],
   "source": [
    "#Departure delay summary grouped by airports\n",
    "depart_airport=flight.groupby('ORIGIN_AIRPORT')['DEPARTURE_DELAY'].describe()\n",
    "depart_airport=depart_airport[['mean','count','min','25%','50%','75%','max']]\n",
    "depart_airport=depart_airport.rename(columns={'min':'Min','25%':'Q1','50%':'Median','75%':'Q3','max':'Max'})# renaming few column names\n",
    "depart_airport=depart_airport.sort_values(by='mean',ascending=False)\n",
    "depart_airport=depart_airport.head(10) #We will only need the top 10 rows of our dataset for airports with high departure delay\n",
    "print(\"\\nDEPARTURE DELAY SUMMARY GROUPEDBY AIRPORT : \")\n",
    "depart_airport"
   ]
  },
  {
   "cell_type": "code",
   "execution_count": null,
   "metadata": {},
   "outputs": [],
   "source": [
    "fig = plt.figure() #Creating an empty figure\n",
    "ax = depart_airport['mean'].plot(kind='bar', use_index=True,color='Red',fontsize=12,legend=False) # creating a plot of first y axis for mean\n",
    "ax2 = ax.twinx() # A second y axis for \"count\"\n",
    "ax2.plot(ax.get_xticks(),depart_airport['count'].values, linestyle='-', marker='o', linewidth=2.0,color='gold',label=\"Number of flights\") #creating a plot for second y axis for count\n",
    "ax.set_title(\"Average and count of departure grouped by Airport(top10)\\n\")\n",
    "ax.set_xlabel(\"Airports\")\n",
    "ax.set_ylabel(\"Average departure delays\")\n",
    "ax2.set_ylabel(\"Count\")\n",
    "lines, labels = ax.get_legend_handles_labels() #Adding legend for 1st y axis\n",
    "lines2, labels2 = ax2.get_legend_handles_labels() #adding legend for 2nd y axis\n",
    "ax2.legend(lines + lines2, labels + labels2, loc=\"best\",bbox_to_anchor=(1.6, 1),fontsize=12) # positioning/sizing the legends\n",
    "plt.show()"
   ]
  },
  {
   "cell_type": "markdown",
   "metadata": {},
   "source": [
    "The above graph and table displays the top 10 airports with the highest average delays. One factor that the above airports have in common is that the number of flights departing from the airport is very few. Since the number of flights is very less, one late flight will increase the average delay. Hector International airport(FAR) seems like an unpopular airport with the highest average departure delay of 161 minutes but only one single flight."
   ]
  },
  {
   "cell_type": "markdown",
   "metadata": {},
   "source": [
    "#### 3.4 Departure and arrival delays based on distance"
   ]
  },
  {
   "cell_type": "code",
   "execution_count": null,
   "metadata": {},
   "outputs": [],
   "source": [
    "#Creating a dataframe for only the departure delays (positive values)\n",
    "depart_delay_positive=flight[(flight['DEPARTURE_DELAY']>0) ]\n",
    "depart_delay_positive['DEPARTURE_DELAY']"
   ]
  },
  {
   "cell_type": "code",
   "execution_count": null,
   "metadata": {},
   "outputs": [],
   "source": [
    "# Extracting departure delay and distance from flight dataset and sorting in descending order by distance first and then by departure delay \n",
    "depart_dist=flight[['DEPARTURE_DELAY','DISTANCE']].sort_values(by=['DISTANCE','DEPARTURE_DELAY'],ascending=False)\n",
    "depart_dist.head(15) # Top 15 long distance flights"
   ]
  },
  {
   "cell_type": "code",
   "execution_count": null,
   "metadata": {},
   "outputs": [],
   "source": [
    "depart_dist.tail(15) # Top 15 short distance flights"
   ]
  },
  {
   "cell_type": "code",
   "execution_count": null,
   "metadata": {},
   "outputs": [],
   "source": [
    "plt.scatter(x=flight['DISTANCE'],y=flight['DEPARTURE_DELAY']) #scatter plot between distance and departure delay\n",
    "plt.xlim(0,2000,500) # Limiting x axis for better view of data points\n",
    "plt.ylim(0,200,50) # Limiting y axis for better view of data points\n",
    "plt.xlabel(\"\\nDistance\" ,fontsize=12)\n",
    "plt.ylabel(\"Departure Delay\" ,fontsize=12)\n",
    "plt.title(\"Departure delay vs Distance\\n\")\n",
    "plt.show()"
   ]
  },
  {
   "cell_type": "code",
   "execution_count": null,
   "metadata": {},
   "outputs": [],
   "source": [
    "plt.scatter(x=flight['DISTANCE'],y=flight['ARRIVAL_DELAY']) #scatter plot between distance and arrival delay\n",
    "plt.xlim(0,2000,500) # Limiting x axis for better view of data points\n",
    "plt.ylim(0,200,50) # Limiting y axis for better view of data points\n",
    "plt.xlabel(\"\\nDistance\" ,fontsize=12)\n",
    "plt.ylabel(\"Arrival Delay\" ,fontsize=12)\n",
    "plt.title(\"Arrival delay vs Distance\\n\")\n",
    "plt.show()"
   ]
  },
  {
   "cell_type": "code",
   "execution_count": null,
   "metadata": {},
   "outputs": [],
   "source": [
    "flight[['DEPARTURE_DELAY','ARRIVAL_DELAY','DISTANCE']].corr() #Correlation of distance, departure delay, arrival delay"
   ]
  },
  {
   "cell_type": "markdown",
   "metadata": {},
   "source": [
    "There is a significant amount of variability associated with arrival delay and distance as well as departure delay and distance. Distance doesn't seem like a good predictor of delay. There seems to very less correlation between departure delay and distance as well as arrival delay and distance "
   ]
  },
  {
   "cell_type": "code",
   "execution_count": null,
   "metadata": {},
   "outputs": [],
   "source": [
    "# Top 10 long distance flights with departure delay(positive) and their corresponding arrival delay\n",
    "depart_delay_positive[['DEPARTURE_DELAY','ARRIVAL_DELAY','DISTANCE']].sort_values(by='DISTANCE',ascending=False).head(10)"
   ]
  },
  {
   "cell_type": "code",
   "execution_count": null,
   "metadata": {},
   "outputs": [],
   "source": [
    "# Top 10 shorty distance flights with departure delay(positive) and their corresponding arrival delay\n",
    "depart_delay_positive[['DEPARTURE_DELAY','ARRIVAL_DELAY','DISTANCE']].sort_values(by='DISTANCE',ascending=False).tail(10)"
   ]
  },
  {
   "cell_type": "code",
   "execution_count": null,
   "metadata": {},
   "outputs": [],
   "source": [
    "from mpl_toolkits.mplot3d import Axes3D # 3d plot\n",
    "fig=plt.figure(figsize=(10,6))\n",
    "ax=fig.add_subplot(111,projection='3d')\n",
    "ax.scatter(depart_delay_positive['DISTANCE'],depart_delay_positive['ARRIVAL_DELAY'],depart_delay_positive['DEPARTURE_DELAY'])\n",
    "ax.set_xlabel('Distance')\n",
    "ax.set_ylabel('Arrival delay')\n",
    "ax.set_zlabel('Departure delay')\n",
    "plt.xlim(0,3000,500)\n",
    "plt.ylim(0,400,50)\n",
    "plt.show()"
   ]
  },
  {
   "cell_type": "markdown",
   "metadata": {},
   "source": [
    "Even though the distance is quite long, the distance doesn’t make up for the departure delay. This can be seen by the many arrival delays (positive values).\n"
   ]
  },
  {
   "cell_type": "markdown",
   "metadata": {},
   "source": [
    "#### 3.5 Departure and arrival delays based on the day of the week"
   ]
  },
  {
   "cell_type": "code",
   "execution_count": null,
   "metadata": {},
   "outputs": [],
   "source": [
    "# Creating a dataframe to obtain the summary of departure delay grouped by day of week\n",
    "depart_dow=flight.groupby('DAY_OF_WEEK')['DEPARTURE_DELAY'].describe() \n",
    "depart_dow=depart_dow[['mean','count','min','25%','50%','75%','max']] # extracting the parameter we need\n",
    "depart_dow=depart_dow.rename(columns={'min':'Min','25%':'Q1','50%':'Median','75%':'Q3','max':'Max'}) # Renaming them\n",
    "print(\"\\nDEPARTURE DELAY SUMMARY GROUPED BY DAY OF WEEK : \")\n",
    "depart_dow"
   ]
  },
  {
   "cell_type": "code",
   "execution_count": null,
   "metadata": {},
   "outputs": [],
   "source": [
    "#Creating a plot with x as day of week, Y1 as mean and y2 a count\n",
    "fig = plt.figure()\n",
    "ax = depart_dow['mean'].plot(kind='bar', use_index=True,color='Red',fontsize=12,legend=False)\n",
    "ax2 = ax.twinx()\n",
    "ax2.plot(ax.get_xticks(),depart_dow['count'].values, linestyle='-', marker='o', linewidth=2.0,color='gold',label=\"Number of people\")\n",
    "ax.set_title(\"Average and count of departure grouped by Day of week\\n\")\n",
    "ax.set_xlabel(\"Month\")\n",
    "ax.set_ylabel(\"Average departure delays\")\n",
    "ax2.set_ylabel(\"Count\")\n",
    "lines, labels = ax.get_legend_handles_labels()\n",
    "lines2, labels2 = ax2.get_legend_handles_labels()\n",
    "ax2.legend(lines + lines2, labels + labels2, loc=\"best\",bbox_to_anchor=(1.6, 1),fontsize=12)\n",
    "plt.show()"
   ]
  },
  {
   "cell_type": "markdown",
   "metadata": {},
   "source": [
    "According to the above table and graph , the best day of the week to travel to experience least departure delay is Saturday-6 with a mean of 7.12. The highest departure delay is on Monday-1 with a mean of 9.7."
   ]
  },
  {
   "cell_type": "code",
   "execution_count": null,
   "metadata": {},
   "outputs": [],
   "source": [
    "# Creating a dataframe to obtain the summary of arrival delay grouped by day of week\n",
    "arr_dow=flight.groupby('DAY_OF_WEEK')['ARRIVAL_DELAY'].describe()\n",
    "arr_dow=arr_dow[['mean','count','min','25%','50%','75%','max']]\n",
    "arr_dow=arr_dow.rename(columns={'min':'Min','25%':'Q1','50%':'Median','75%':'Q3','max':'Max'})\n",
    "print(\"\\nARRIVAL DELAY SUMMARY GROUPED BY DAY OF WEEK : \")\n",
    "arr_dow"
   ]
  },
  {
   "cell_type": "code",
   "execution_count": null,
   "metadata": {
    "scrolled": true
   },
   "outputs": [],
   "source": [
    "#Creating a plot with x as day of week, Y1 as mean and y2 a count\n",
    "fig = plt.figure()\n",
    "ax = arr_dow['mean'].plot(kind='bar', use_index=True,color='Red',fontsize=12,legend=False)\n",
    "ax2 = ax.twinx()\n",
    "ax2.plot(ax.get_xticks(),depart_dow['count'].values, linestyle='-', marker='o', linewidth=2.0,color='gold',label=\"Number of people\")\n",
    "ax.set_title(\"Average and count of departure grouped by Day of week\\n\")\n",
    "ax.set_xlabel(\"Day of week\")\n",
    "ax.set_ylabel(\"Average departure delays\")\n",
    "ax2.set_ylabel(\"Count\")\n",
    "lines, labels = ax.get_legend_handles_labels()\n",
    "lines2, labels2 = ax2.get_legend_handles_labels()\n",
    "ax2.legend(lines + lines2, labels + labels2, loc=\"best\",bbox_to_anchor=(1.6, 1),fontsize=12)\n",
    "plt.show()"
   ]
  },
  {
   "cell_type": "markdown",
   "metadata": {},
   "source": [
    "According to the above table and graph , the best day of the week to travel to experience least arrival delay is Saturday-6 with a mean of 1.13 minutes. The highest departure delay is on Thursday-4 with a mean of 5.62 minutes."
   ]
  },
  {
   "cell_type": "markdown",
   "metadata": {},
   "source": [
    "#### 3.6. Analysing the different delay types"
   ]
  },
  {
   "cell_type": "code",
   "execution_count": null,
   "metadata": {},
   "outputs": [],
   "source": [
    "#average of different delay types\n",
    "delay_type=pd.DataFrame(flight['AIR_SYSTEM_DELAY'].describe())\n",
    "delay_type['SECURITY_DELAY']=pd.DataFrame(flight['SECURITY_DELAY'].describe())\n",
    "delay_type['AIRLINE_DELAY']=pd.DataFrame(flight['AIRLINE_DELAY'].describe())\n",
    "delay_type['LATE_AIRCRAFT_DELAY']=pd.DataFrame(flight['LATE_AIRCRAFT_DELAY'].describe())\n",
    "delay_type['WEATHER_DELAY']=pd.DataFrame(flight['WEATHER_DELAY'].describe())\n",
    "delay_type=pd.DataFrame(delay_type.iloc[1])\n",
    "delay_type"
   ]
  },
  {
   "cell_type": "code",
   "execution_count": null,
   "metadata": {},
   "outputs": [],
   "source": [
    "plt.figure(figsize=(20,10))\n",
    "plt.plot(delay_type)\n",
    "plt.tick_params(labelsize=15)\n",
    "plt.xlabel(\"\\nTypes of delay\" ,fontsize=15)\n",
    "plt.ylabel(\"Average Delay\" ,fontsize=15)\n",
    "plt.title(\"\\nAverage delay\\n\",fontsize=15)\n",
    "plt.show()"
   ]
  },
  {
   "cell_type": "markdown",
   "metadata": {},
   "source": [
    "The highest delay is due to delay caused by the aircraft with an average of 20.51 minutes. Whereas, the least delay is caused due to security with an average of 0.11 minutes."
   ]
  },
  {
   "cell_type": "markdown",
   "metadata": {},
   "source": [
    "#### 3.7. Month vs Arrival delay "
   ]
  },
  {
   "cell_type": "code",
   "execution_count": null,
   "metadata": {},
   "outputs": [],
   "source": [
    "# Creating a dataframe to obtain the summary of arrival delay grouped by month\n",
    "arr_mon=flight.groupby('MONTH')['ARRIVAL_DELAY'].describe()\n",
    "arr_mon=arr_mon[['mean','count','min','25%','50%','75%','max']]\n",
    "arr_mon=arr_mon.rename(columns={'min':'Min','25%':'Q1','50%':'Median','75%':'Q3','max':'Max'})\n",
    "print(\"\\nARRIVAL DELAY SUMMARY GROUPED BY MONTH : \")\n",
    "arr_mon"
   ]
  },
  {
   "cell_type": "code",
   "execution_count": null,
   "metadata": {},
   "outputs": [],
   "source": [
    "#Creating a plot with x as month, Y1 as mean and y2 a count\n",
    "fig = plt.figure()\n",
    "ax = arr_mon['mean'].plot(kind='bar', use_index=True,color='Red',fontsize=12,legend=False)\n",
    "ax2 = ax.twinx()\n",
    "ax2.plot(ax.get_xticks(),arr_mon['count'].values, linestyle='-', marker='o', linewidth=2.0,color='gold',label=\"Number of people\")\n",
    "ax.set_title(\"Average and count of arrival delay grouped by month\\n\")\n",
    "ax.set_xlabel(\"Month\")\n",
    "ax.set_ylabel(\"Average Arrival delays\")\n",
    "ax2.set_ylabel(\"Count\")\n",
    "lines, labels = ax.get_legend_handles_labels()\n",
    "lines2, labels2 = ax2.get_legend_handles_labels()\n",
    "ax2.legend(lines + lines2, labels + labels2, loc=\"best\",bbox_to_anchor=(1.6, 1),fontsize=12)\n",
    "plt.show()"
   ]
  },
  {
   "cell_type": "markdown",
   "metadata": {},
   "source": [
    "We analyze the arrival delay grouped month wise. It is interesting to note that, September (9), October (10) and November (11)   have a negative average arrival delay. This means that on those months on an average the flights have reached earlier than scheduled. The high average delay is on June (6) with a average delay of 8.57 minutes. We can make assumptions for why this is the case – (1) More number of people travel in the summer months as schools are off, so this can increase air-traffic or airports can be small to accommodate so many aircrafts or airlines may be short staffed. (2) A similar reason as to why there is negative delays in months -9,10,11, not many people are travelling, so fewer aircrafts, easier to handle and reduce delays. "
   ]
  },
  {
   "cell_type": "code",
   "execution_count": null,
   "metadata": {},
   "outputs": [],
   "source": [
    "# Creating a dataframe to obtain the summary of departure delay grouped by month\n",
    "depart_mon=flight.groupby('MONTH')['DEPARTURE_DELAY'].describe()\n",
    "depart_mon=depart_mon[['mean','count','min','25%','50%','75%','max']]\n",
    "depart_mon=depart_mon.rename(columns={'min':'Min','25%':'Q1','50%':'Median','75%':'Q3','max':'Max'})\n",
    "print(\"\\nDEPARTURE DELAY SUMMARY GROUPED BY MONTH : \")\n",
    "depart_mon"
   ]
  },
  {
   "cell_type": "code",
   "execution_count": null,
   "metadata": {},
   "outputs": [],
   "source": [
    "#Creating a plot with x as month, Y1 as mean and y2 a count\n",
    "fig = plt.figure()\n",
    "ax = depart_mon['mean'].plot(kind='bar', use_index=True,color='Red',fontsize=12,legend=False)\n",
    "ax2 = ax.twinx()\n",
    "ax2.plot(ax.get_xticks(),arr_mon['count'].values, linestyle='-', marker='o', linewidth=2.0,color='gold',label=\"Number of people\")\n",
    "ax.set_title(\"Average and count of departure grouped by month\\n\")\n",
    "ax.set_xlabel(\"Month\")\n",
    "ax.set_ylabel(\"Average departure delays\")\n",
    "ax2.set_ylabel(\"Count\")\n",
    "lines, labels = ax.get_legend_handles_labels()\n",
    "lines2, labels2 = ax2.get_legend_handles_labels()\n",
    "ax2.legend(lines + lines2, labels + labels2, loc=\"best\",bbox_to_anchor=(1.6, 1),fontsize=12)\n",
    "plt.show()"
   ]
  },
  {
   "cell_type": "markdown",
   "metadata": {},
   "source": [
    "#### 4 Regression Analysis"
   ]
  },
  {
   "cell_type": "markdown",
   "metadata": {},
   "source": [
    "#### 4.1 Subpart 1"
   ]
  },
  {
   "cell_type": "markdown",
   "metadata": {},
   "source": [
    "###### Response variable is ARRIVAL_DELAY"
   ]
  },
  {
   "cell_type": "code",
   "execution_count": null,
   "metadata": {},
   "outputs": [],
   "source": [
    "flight.dropna(subset=[\"WEATHER_DELAY\"],how=\"all\",inplace=True) #removing the missing values in WEATHER_DELAY\n"
   ]
  },
  {
   "cell_type": "code",
   "execution_count": null,
   "metadata": {},
   "outputs": [],
   "source": [
    "flight.isnull().sum() #the remaining null values"
   ]
  },
  {
   "cell_type": "code",
   "execution_count": null,
   "metadata": {},
   "outputs": [],
   "source": [
    "Airline_dummy=pd.get_dummies(flight['AIRLINE'],prefix='Airline') #Geting dummy variables for \"Airline\" and prefixing it with airline for clarity\n",
    "del Airline_dummy['Airline_AA'] #droping the first column of Airline \"AA\"\n",
    "dayweek_dummy=pd.get_dummies(flight['DAY_OF_WEEK'],prefix='Dayofweek') #Geting dummy variables for \"Day of week\" and prefixing it with Dayofweek for clarity\n",
    "del dayweek_dummy['Dayofweek_1'] #droping the first column of dayofweek \"1\"\n",
    "flight=pd.concat([flight,Airline_dummy,dayweek_dummy],axis=1) #Adding the dummy variables to the original dataset\n",
    "flight.head()"
   ]
  },
  {
   "cell_type": "code",
   "execution_count": null,
   "metadata": {},
   "outputs": [],
   "source": [
    "X_cat_1=flight.iloc[:,31:] # Adding only the categorical dummy variables \n",
    "X_num_1=flight[['LATE_AIRCRAFT_DELAY','AIRLINE_DELAY','AIR_SYSTEM_DELAY','WEATHER_DELAY','DEPARTURE_TIME','DEPARTURE_DELAY','DISTANCE']]#Adding only the nuermical variables\n",
    "X_1=pd.concat([X_num_1,X_cat_1],axis=1) #Combining them\n",
    "X_1.head() #the final predictor variabes for the model"
   ]
  },
  {
   "cell_type": "code",
   "execution_count": null,
   "metadata": {},
   "outputs": [],
   "source": [
    "y_1=flight['ARRIVAL_DELAY'] #response variable for the model"
   ]
  },
  {
   "cell_type": "code",
   "execution_count": null,
   "metadata": {},
   "outputs": [],
   "source": [
    "#Linear regression using statsmodel\n",
    "X_con_1=sm.add_constant(X_1)\n",
    "arr_del_stats_1=sm.OLS(y_1,X_con_1).fit()\n",
    "arr_del_stats_1.summary()"
   ]
  },
  {
   "cell_type": "code",
   "execution_count": null,
   "metadata": {},
   "outputs": [],
   "source": [
    "# Extracting only thecoefficient and p-values from the model\n",
    "arr_del_stats_1p=pd.DataFrame(arr_del_stats_1.params) \n",
    "arr_del_stats_1p.columns=['Coef']\n",
    "arr_del_stats_1p['p-values']=arr_del_stats_1.pvalues\n",
    "arr_del_stats_1p"
   ]
  },
  {
   "cell_type": "code",
   "execution_count": null,
   "metadata": {
    "scrolled": true
   },
   "outputs": [],
   "source": [
    "print(\"\\nR-squared: {}% \".format(arr_del_stats_1.rsquared*100)) #R-squared of the model"
   ]
  },
  {
   "cell_type": "markdown",
   "metadata": {},
   "source": [
    "#### 4.1.1. Interpretations\n",
    "With everything else constant, one minute increase in late aircraft delay, increases arrival delay by 0.981362 minutes\n",
    "\n",
    "With everything else fixed,  one minute increase in airline delay, increases arrival delay by 0.982036 minutes\n",
    "\n",
    "As the p values of departure time, airlines and day of week are really high, we will not interpret any of those results, as it might not reveal the truth."
   ]
  },
  {
   "cell_type": "markdown",
   "metadata": {},
   "source": [
    "#### 4.1.2 Model diagnostics\n",
    "\n",
    " "
   ]
  },
  {
   "cell_type": "code",
   "execution_count": null,
   "metadata": {},
   "outputs": [],
   "source": [
    "y_hat_1=arr_del_stats_1.fittedvalues # obtaining the fitted values\n",
    "y_minus_yhat_1=arr_del_stats_1.resid #obtaining the residual values\n"
   ]
  },
  {
   "cell_type": "code",
   "execution_count": null,
   "metadata": {},
   "outputs": [],
   "source": [
    "#scatter plot for residual vs fitted values \n",
    "plt.scatter(y_hat_1,y_minus_yhat_1)\n",
    "plt.xlabel('Predicted arrival delay (Fitted Values)')\n",
    "plt.ylabel('Residuals')\n",
    "plt.title('Residuals vs Fitted Values')\n",
    "plt.show()"
   ]
  },
  {
   "cell_type": "code",
   "execution_count": null,
   "metadata": {},
   "outputs": [],
   "source": [
    "#QQ plot\n",
    "qq = sm.qqplot(arr_del_stats_1.resid)\n",
    "plt.title(\"QQ plot\")\n",
    "plt.show()"
   ]
  },
  {
   "cell_type": "markdown",
   "metadata": {},
   "source": [
    "We will use Residual plots and QQplot for identifying the three potentisl problems in our dataset- Non-linearity, Non constant variance of the error terms,Non-Normality of error\n",
    "\n",
    "•\tThe residuals then fall within a horizontal band centered around 0, but it displays slight tendencies to be positive. Hence, Linearity is not met. <br/>\n",
    "•\tResidual plot exhibits slight funnel shape, constant variance is not satisfied.<br/>\n",
    "•\tThe points fall nowhere close to a straight line inthe qqplot . The distribution of the error terms departs substantially from a normal distribution. Normality is not satisfied\n"
   ]
  },
  {
   "cell_type": "markdown",
   "metadata": {},
   "source": [
    "#### 4.2 Subpart II"
   ]
  },
  {
   "cell_type": "code",
   "execution_count": null,
   "metadata": {},
   "outputs": [],
   "source": [
    "#analysing the outliers in arrival delay\n",
    "plt.boxplot(flight['ARRIVAL_DELAY'])"
   ]
  },
  {
   "cell_type": "code",
   "execution_count": null,
   "metadata": {},
   "outputs": [],
   "source": [
    "Q1= flight['ARRIVAL_DELAY'].quantile(0.25) #Q1 region\n",
    "Q3=flight['ARRIVAL_DELAY'].quantile(0.75) #Q2 region\n",
    "IQR=Q3-Q1 #Inter quartile region"
   ]
  },
  {
   "cell_type": "code",
   "execution_count": null,
   "metadata": {},
   "outputs": [],
   "source": [
    "IQR"
   ]
  },
  {
   "cell_type": "code",
   "execution_count": null,
   "metadata": {},
   "outputs": [],
   "source": [
    "len(flight) # current number of observations in flight"
   ]
  },
  {
   "cell_type": "code",
   "execution_count": null,
   "metadata": {},
   "outputs": [],
   "source": [
    "flight.drop(flight[ (flight['ARRIVAL_DELAY']>Q3+1.5*IQR) | (flight['ARRIVAL_DELAY']<Q1-1.5*IQR)].index,inplace=True) # dropping the outliers in arrival delay"
   ]
  },
  {
   "cell_type": "code",
   "execution_count": null,
   "metadata": {},
   "outputs": [],
   "source": [
    "len(flight) #  number of observations in flight after dropping the outliers"
   ]
  },
  {
   "cell_type": "code",
   "execution_count": null,
   "metadata": {},
   "outputs": [],
   "source": [
    "flight['log(y)'] = np.log(flight['ARRIVAL_DELAY'] +0.00001 ) # transforming the response variable (adding 0.000001 to avoid error incase a log 0 is present)"
   ]
  },
  {
   "cell_type": "code",
   "execution_count": null,
   "metadata": {},
   "outputs": [],
   "source": [
    "X_2=flight[['LATE_AIRCRAFT_DELAY','AIRLINE_DELAY','AIR_SYSTEM_DELAY','WEATHER_DELAY','DEPARTURE_DELAY']] #predictor variable for the new model\n",
    "y_2=flight['log(y)'] # response variable"
   ]
  },
  {
   "cell_type": "code",
   "execution_count": null,
   "metadata": {},
   "outputs": [],
   "source": [
    "#Linear regression using statsmodel\n",
    "X_con_2=sm.add_constant(X_2)\n",
    "arr_del_stats_2=sm.OLS(y_2,X_con_2).fit()\n",
    "arr_del_stats_2.summary()"
   ]
  },
  {
   "cell_type": "code",
   "execution_count": null,
   "metadata": {},
   "outputs": [],
   "source": [
    "# Extracting only he pvalues and coefficients\n",
    "arr_del_stats_2p=pd.DataFrame(arr_del_stats_2.params)\n",
    "arr_del_stats_2p.columns=['Coef']\n",
    "arr_del_stats_2p['p-values']=arr_del_stats_2.pvalues\n",
    "arr_del_stats_2p"
   ]
  },
  {
   "cell_type": "code",
   "execution_count": null,
   "metadata": {},
   "outputs": [],
   "source": [
    "print(\"\\nR-squared: {}% \".format(arr_del_stats_2.rsquared*100)) #R-squared"
   ]
  },
  {
   "cell_type": "code",
   "execution_count": null,
   "metadata": {},
   "outputs": [],
   "source": [
    "#Regression line\n",
    "print(\"Balance_Hat = {a} + {b}*LATE_AIRCRAFT_DELAY +{c} * AIRLINE_DELAY+ {d}*AIR_SYSTEM_DELAY+ {e}*WEATHER_DELAY +{f}*DEPARTURE_DELAY  \" \n",
    "      .format(a=arr_del_stats_2.params[0],b=arr_del_stats_2.params[1], c=arr_del_stats_2.params[2], d=arr_del_stats_2.params[3], e=arr_del_stats_2.params[4], f=arr_del_stats_2.params[5]))"
   ]
  },
  {
   "cell_type": "code",
   "execution_count": null,
   "metadata": {},
   "outputs": [],
   "source": [
    "y_hat_2=arr_del_stats_2.fittedvalues#obtaining the fitted values\n",
    "y_minus_yhat_2=arr_del_stats_2.resid #obtaining the residual values"
   ]
  },
  {
   "cell_type": "code",
   "execution_count": null,
   "metadata": {},
   "outputs": [],
   "source": [
    "plt.scatter(y_hat_2,y_minus_yhat_2)\n",
    "plt.xlabel('Predicted Arrival delay-Fitted Values')\n",
    "plt.ylabel('Residuals')\n",
    "plt.title('Residuals vs Fitted Values')\n",
    "plt.show()"
   ]
  },
  {
   "cell_type": "code",
   "execution_count": null,
   "metadata": {},
   "outputs": [],
   "source": [
    "qq = sm.qqplot(arr_del_stats_2.resid)\n",
    "plt.title(\"QQ plot\")\n",
    "plt.show()"
   ]
  },
  {
   "cell_type": "markdown",
   "metadata": {},
   "source": [
    "#### 4.2.1 Model diagnostics\n",
    "\n",
    "We will use Residual plots and QQplot for identifying the three potential problems in our dataset- Non-linearity, Non constant variance of the error terms,Non-Normality of error\n",
    "\n",
    "•The residuals depart from zero in a systematic fashion, they are negative for smaller values, positive for medium values and negative again for larger values. This tendency indicates the lack of linearity and constant variance of the regression function. <br/>\n",
    "\n",
    "•The points fall reasonably close to a straight line initially but the points quickly departs from normality. The distribution of the error terms  departs substantially from a normal distribution since the points are not in a straight line. Hence, normality is not satisfied\n",
    "\n",
    "•No improvement from the previous model in sec 4.1. The normality improved slightly, but linearity and constant variance has gotten worse\n"
   ]
  },
  {
   "cell_type": "markdown",
   "metadata": {},
   "source": [
    "#### 4.3. Suggestions on how to improve model fit"
   ]
  },
  {
   "cell_type": "markdown",
   "metadata": {},
   "source": [
    "1)\tTukey's transformation - Performing multiple transformation, till linearity is achieved (at least max level possible) <br/>\n",
    "2)\tSuitable variable selection technique <br/>\n",
    "3)\tAdding interaction terms to the model <br/>\n",
    "4)\tAdding polynomial terms to the model\n"
   ]
  }
 ],
 "metadata": {
  "kernelspec": {
   "display_name": "Python 3",
   "language": "python",
   "name": "python3"
  },
  "language_info": {
   "codemirror_mode": {
    "name": "ipython",
    "version": 3
   },
   "file_extension": ".py",
   "mimetype": "text/x-python",
   "name": "python",
   "nbconvert_exporter": "python",
   "pygments_lexer": "ipython3",
   "version": "3.11.4"
  }
 },
 "nbformat": 4,
 "nbformat_minor": 2
}
